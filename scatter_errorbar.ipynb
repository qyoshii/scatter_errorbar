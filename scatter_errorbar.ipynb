{
 "cells": [
  {
   "cell_type": "code",
   "execution_count": 13,
   "metadata": {},
   "outputs": [],
   "source": [
    "import matplotlib.pyplot as plt\n",
    "import numpy as np\n",
    "csfont = {'fontname':'Comic Sans MS'}\n",
    "hfont = {'fontname':'Helvetica'}\n",
    "plt.rcParams[\"font.family\"] = \"arial\"       # 使用するフォント\n",
    "plt.rcParams[\"font.serif\"] = \"Times New Roman\"\n",
    "plt.rcParams[\"font.size\"] = 14              # 基本となるフォントの大きさ\n",
    "plt.rcParams[\"mathtext.cal\"] = \"serif\"      # TeX表記に関するフォント設定\n",
    "plt.rcParams[\"mathtext.rm\"] = \"serif\"       # TeX表記に関するフォント設定\n",
    "plt.rcParams[\"mathtext.it\"] = \"serif:italic\"# TeX表記に関するフォント設定\n",
    "plt.rcParams[\"mathtext.bf\"] = \"serif:bold\"  # TeX表記に関するフォント設定\n",
    "plt.rcParams[\"mathtext.fontset\"] = \"cm\"     # TeX表記に関するフォント設定\n",
    "plt.rcParams['xtick.direction'] = 'in'            #x軸の目盛線\n",
    "plt.rcParams['ytick.direction'] = 'in'            #y軸の目盛線\n",
    "plt.rcParams['axes.linewidth'] = 1.0        # 軸の線幅edge linewidth。囲みの太さ\n",
    "plt.rcParams[\"xtick.top\"] = True            # 上部に目盛り線を描くかどうか\n",
    "plt.rcParams[\"xtick.bottom\"] = True         # 下部に目盛り線を描くかどうか\n",
    "plt.rcParams[\"ytick.left\"] = True           # 左部に目盛り線を描くかどうか\n",
    "plt.rcParams[\"ytick.right\"] = True          # 右部に目盛り線を描くかどうか\n",
    "plt.rcParams[\"xtick.major.size\"] = 8.0      # x軸主目盛り線の長さ\n",
    "plt.rcParams[\"ytick.major.size\"] = 8.0      # y軸主目盛り線の長さ\n",
    "plt.rcParams[\"xtick.major.width\"] = 1.0     # x軸主目盛り線の線幅\n",
    "plt.rcParams[\"ytick.major.width\"] = 1.0     # y軸主目盛り線の線幅"
   ]
  },
  {
   "cell_type": "code",
   "execution_count": 14,
   "metadata": {},
   "outputs": [
    {
     "data": {
      "image/png": "[encoded data removed]",
      "text/plain": [
       "<Figure size 432x288 with 2 Axes>"
      ]
     },
     "metadata": {
      "needs_background": "light"
     },
     "output_type": "display_data"
    }
   ],
   "source": [
    "fig = plt.figure()\n",
    "x = np.arange(10)\n",
    "y = np.arange(10)\n",
    "yerr = np.linspace(0.1, 1.0, 10)\n",
    "\n",
    "cm = plt.cm.get_cmap('gnuplot2')\n",
    "plt.scatter(x, y, c=y, s=200, zorder=3, cmap=cm , marker=\"o\", edgecolors=\"black\", linewidths=2)\n",
    "plt.errorbar(x, y, yerr=yerr, zorder=2,fmt='none' ,s=200,  markeredgewidth=2, capsize=4, elinewidth=2, color = \"black\", markeredgecolor=\"black\", markerfacecolor=\"none\", markerfacecoloralt=\"none\", fillstyle=\"none\")\n",
    "plt.colorbar()\n",
    "plt.savefig(\"scatter_errorbar.png\")\n",
    "plt.show()"
   ]
  },
  {
   "cell_type": "code",
   "execution_count": null,
   "metadata": {},
   "outputs": [],
   "source": []
  }
 ],
 "metadata": {
  "kernelspec": {
   "display_name": "Python 3",
   "language": "python",
   "name": "python3"
  },
  "language_info": {
   "codemirror_mode": {
    "name": "ipython",
    "version": 3
   },
   "file_extension": ".py",
   "mimetype": "text/x-python",
   "name": "python",
   "nbconvert_exporter": "python",
   "pygments_lexer": "ipython3",
   "version": "3.7.0"
  }
 },
 "nbformat": 4,
 "nbformat_minor": 2
}
